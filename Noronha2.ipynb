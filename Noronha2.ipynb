{
  "nbformat": 4,
  "nbformat_minor": 0,
  "metadata": {
    "colab": {
      "name": "Noronha2.ipynb",
      "provenance": [],
      "authorship_tag": "ABX9TyN23dd3cCgrS9iTATEgJlsF",
      "include_colab_link": true
    },
    "kernelspec": {
      "name": "python3",
      "display_name": "Python 3"
    },
    "language_info": {
      "name": "python"
    }
  },
  "cells": [
    {
      "cell_type": "markdown",
      "metadata": {
        "id": "view-in-github",
        "colab_type": "text"
      },
      "source": [
        "<a href=\"https://colab.research.google.com/github/cristoyerenahs/Machine_Learning/blob/master/Noronha2.ipynb\" target=\"_parent\"><img src=\"https://colab.research.google.com/assets/colab-badge.svg\" alt=\"Open In Colab\"/></a>"
      ]
    },
    {
      "cell_type": "code",
      "metadata": {
        "colab": {
          "base_uri": "https://localhost:8080/",
          "height": 1000
        },
        "id": "9Hcixj4gZ8OG",
        "outputId": "780edc50-2f18-46d7-cd9a-34adf2de2f45"
      },
      "source": [
        "pip install noronha-dataops"
      ],
      "execution_count": 1,
      "outputs": [
        {
          "output_type": "stream",
          "name": "stdout",
          "text": [
            "Collecting noronha-dataops\n",
            "  Downloading noronha_dataops-1.6.3-py3-none-any.whl (129 kB)\n",
            "\u001b[?25l\r\u001b[K     |██▌                             | 10 kB 24.8 MB/s eta 0:00:01\r\u001b[K     |█████                           | 20 kB 30.9 MB/s eta 0:00:01\r\u001b[K     |███████▋                        | 30 kB 33.0 MB/s eta 0:00:01\r\u001b[K     |██████████▏                     | 40 kB 34.4 MB/s eta 0:00:01\r\u001b[K     |████████████▋                   | 51 kB 37.2 MB/s eta 0:00:01\r\u001b[K     |███████████████▏                | 61 kB 32.7 MB/s eta 0:00:01\r\u001b[K     |█████████████████▊              | 71 kB 29.4 MB/s eta 0:00:01\r\u001b[K     |████████████████████▎           | 81 kB 30.9 MB/s eta 0:00:01\r\u001b[K     |██████████████████████▊         | 92 kB 32.8 MB/s eta 0:00:01\r\u001b[K     |█████████████████████████▎      | 102 kB 30.8 MB/s eta 0:00:01\r\u001b[K     |███████████████████████████▉    | 112 kB 30.8 MB/s eta 0:00:01\r\u001b[K     |██████████████████████████████▍ | 122 kB 30.8 MB/s eta 0:00:01\r\u001b[K     |████████████████████████████████| 129 kB 30.8 MB/s \n",
            "\u001b[?25hCollecting blinker\n",
            "  Downloading blinker-1.4.tar.gz (111 kB)\n",
            "\u001b[K     |████████████████████████████████| 111 kB 59.5 MB/s \n",
            "\u001b[?25hCollecting keyring-jeepney\n",
            "  Downloading keyring_jeepney-0.2-py3-none-any.whl (8.7 kB)\n",
            "Collecting docker\n",
            "  Downloading docker-5.0.2-py2.py3-none-any.whl (145 kB)\n",
            "\u001b[K     |████████████████████████████████| 145 kB 33.9 MB/s \n",
            "\u001b[?25hCollecting pyvalid==0.9.2\n",
            "  Downloading pyvalid-0.9.2-py3-none-any.whl (8.5 kB)\n",
            "Requirement already satisfied: requests in /usr/local/lib/python3.7/dist-packages (from noronha-dataops) (2.23.0)\n",
            "Requirement already satisfied: click in /usr/local/lib/python3.7/dist-packages (from noronha-dataops) (7.1.2)\n",
            "Collecting nexus3-cli==1.0.2\n",
            "  Downloading nexus3_cli-1.0.2-py2.py3-none-any.whl (25 kB)\n",
            "Collecting conu\n",
            "  Downloading conu-1.0.0-py3-none-any.whl (97 kB)\n",
            "\u001b[K     |████████████████████████████████| 97 kB 6.6 MB/s \n",
            "\u001b[?25hCollecting kaptan\n",
            "  Downloading kaptan-0.5.12.tar.gz (10 kB)\n",
            "Collecting mongoengine\n",
            "  Downloading mongoengine-0.23.1-py3-none-any.whl (107 kB)\n",
            "\u001b[K     |████████████████████████████████| 107 kB 42.3 MB/s \n",
            "\u001b[?25hCollecting artifactory\n",
            "  Downloading artifactory-0.1.17.tar.gz (14 kB)\n",
            "Collecting random-name\n",
            "  Downloading random_name-0.1.1.tar.gz (4.7 kB)\n",
            "Collecting kubernetes==12.0.1\n",
            "  Downloading kubernetes-12.0.1-py2.py3-none-any.whl (1.7 MB)\n",
            "\u001b[K     |████████████████████████████████| 1.7 MB 46.0 MB/s \n",
            "\u001b[?25hCollecting cassandra-driver==3.21.0\n",
            "  Downloading cassandra_driver-3.21.0-cp37-cp37m-manylinux1_x86_64.whl (4.2 MB)\n",
            "\u001b[K     |████████████████████████████████| 4.2 MB 46.5 MB/s \n",
            "\u001b[?25hRequirement already satisfied: nbconvert==5.6.1 in /usr/local/lib/python3.7/dist-packages (from noronha-dataops) (5.6.1)\n",
            "Collecting gitpython\n",
            "  Downloading GitPython-3.1.24-py3-none-any.whl (180 kB)\n",
            "\u001b[K     |████████████████████████████████| 180 kB 50.1 MB/s \n",
            "\u001b[?25hCollecting keyring\n",
            "  Downloading keyring-23.2.1-py3-none-any.whl (33 kB)\n",
            "Collecting pyOpenSSL\n",
            "  Downloading pyOpenSSL-20.0.1-py2.py3-none-any.whl (54 kB)\n",
            "\u001b[K     |████████████████████████████████| 54 kB 2.1 MB/s \n",
            "\u001b[?25hCollecting geomet<0.2,>=0.1\n",
            "  Downloading geomet-0.1.2.tar.gz (11 kB)\n",
            "Requirement already satisfied: six>=1.9 in /usr/local/lib/python3.7/dist-packages (from cassandra-driver==3.21.0->noronha-dataops) (1.15.0)\n",
            "Requirement already satisfied: python-dateutil>=2.5.3 in /usr/local/lib/python3.7/dist-packages (from kubernetes==12.0.1->noronha-dataops) (2.8.2)\n",
            "Requirement already satisfied: requests-oauthlib in /usr/local/lib/python3.7/dist-packages (from kubernetes==12.0.1->noronha-dataops) (1.3.0)\n",
            "Collecting websocket-client!=0.40.0,!=0.41.*,!=0.42.*,>=0.32.0\n",
            "  Downloading websocket_client-1.2.1-py2.py3-none-any.whl (52 kB)\n",
            "\u001b[K     |████████████████████████████████| 52 kB 1.5 MB/s \n",
            "\u001b[?25hRequirement already satisfied: urllib3>=1.24.2 in /usr/local/lib/python3.7/dist-packages (from kubernetes==12.0.1->noronha-dataops) (1.24.3)\n",
            "Requirement already satisfied: setuptools>=21.0.0 in /usr/local/lib/python3.7/dist-packages (from kubernetes==12.0.1->noronha-dataops) (57.4.0)\n",
            "Requirement already satisfied: google-auth>=1.0.1 in /usr/local/lib/python3.7/dist-packages (from kubernetes==12.0.1->noronha-dataops) (1.35.0)\n",
            "Requirement already satisfied: pyyaml>=3.12 in /usr/local/lib/python3.7/dist-packages (from kubernetes==12.0.1->noronha-dataops) (3.13)\n",
            "Requirement already satisfied: certifi>=14.05.14 in /usr/local/lib/python3.7/dist-packages (from kubernetes==12.0.1->noronha-dataops) (2021.5.30)\n",
            "Requirement already satisfied: testpath in /usr/local/lib/python3.7/dist-packages (from nbconvert==5.6.1->noronha-dataops) (0.5.0)\n",
            "Requirement already satisfied: pygments in /usr/local/lib/python3.7/dist-packages (from nbconvert==5.6.1->noronha-dataops) (2.6.1)\n",
            "Requirement already satisfied: jinja2>=2.4 in /usr/local/lib/python3.7/dist-packages (from nbconvert==5.6.1->noronha-dataops) (2.11.3)\n",
            "Requirement already satisfied: bleach in /usr/local/lib/python3.7/dist-packages (from nbconvert==5.6.1->noronha-dataops) (4.1.0)\n",
            "Requirement already satisfied: mistune<2,>=0.8.1 in /usr/local/lib/python3.7/dist-packages (from nbconvert==5.6.1->noronha-dataops) (0.8.4)\n",
            "Requirement already satisfied: jupyter-core in /usr/local/lib/python3.7/dist-packages (from nbconvert==5.6.1->noronha-dataops) (4.7.1)\n",
            "Requirement already satisfied: pandocfilters>=1.4.1 in /usr/local/lib/python3.7/dist-packages (from nbconvert==5.6.1->noronha-dataops) (1.5.0)\n",
            "Requirement already satisfied: traitlets>=4.2 in /usr/local/lib/python3.7/dist-packages (from nbconvert==5.6.1->noronha-dataops) (5.1.0)\n",
            "Requirement already satisfied: defusedxml in /usr/local/lib/python3.7/dist-packages (from nbconvert==5.6.1->noronha-dataops) (0.7.1)\n",
            "Requirement already satisfied: entrypoints>=0.2.2 in /usr/local/lib/python3.7/dist-packages (from nbconvert==5.6.1->noronha-dataops) (0.3)\n",
            "Requirement already satisfied: nbformat>=4.4 in /usr/local/lib/python3.7/dist-packages (from nbconvert==5.6.1->noronha-dataops) (5.1.3)\n",
            "Requirement already satisfied: future in /usr/local/lib/python3.7/dist-packages (from nexus3-cli==1.0.2->noronha-dataops) (0.16.0)\n",
            "Requirement already satisfied: py in /usr/local/lib/python3.7/dist-packages (from nexus3-cli==1.0.2->noronha-dataops) (1.10.0)\n",
            "Collecting faker\n",
            "  Downloading Faker-8.13.2-py3-none-any.whl (1.2 MB)\n",
            "\u001b[K     |████████████████████████████████| 1.2 MB 31.3 MB/s \n",
            "\u001b[?25hRequirement already satisfied: docopt in /usr/local/lib/python3.7/dist-packages (from nexus3-cli==1.0.2->noronha-dataops) (0.6.2)\n",
            "Collecting clint\n",
            "  Downloading clint-0.5.1.tar.gz (29 kB)\n",
            "Requirement already satisfied: inflect in /usr/local/lib/python3.7/dist-packages (from nexus3-cli==1.0.2->noronha-dataops) (2.1.0)\n",
            "Collecting six>=1.9\n",
            "  Downloading six-1.10.0-py2.py3-none-any.whl (10 kB)\n",
            "Requirement already satisfied: cachetools<5.0,>=2.0.0 in /usr/local/lib/python3.7/dist-packages (from google-auth>=1.0.1->kubernetes==12.0.1->noronha-dataops) (4.2.2)\n",
            "Requirement already satisfied: rsa<5,>=3.1.4 in /usr/local/lib/python3.7/dist-packages (from google-auth>=1.0.1->kubernetes==12.0.1->noronha-dataops) (4.7.2)\n",
            "Requirement already satisfied: pyasn1-modules>=0.2.1 in /usr/local/lib/python3.7/dist-packages (from google-auth>=1.0.1->kubernetes==12.0.1->noronha-dataops) (0.2.8)\n",
            "Requirement already satisfied: MarkupSafe>=0.23 in /usr/local/lib/python3.7/dist-packages (from jinja2>=2.4->nbconvert==5.6.1->noronha-dataops) (2.0.1)\n",
            "Requirement already satisfied: jsonschema!=2.5.0,>=2.4 in /usr/local/lib/python3.7/dist-packages (from nbformat>=4.4->nbconvert==5.6.1->noronha-dataops) (2.6.0)\n",
            "Requirement already satisfied: ipython-genutils in /usr/local/lib/python3.7/dist-packages (from nbformat>=4.4->nbconvert==5.6.1->noronha-dataops) (0.2.0)\n",
            "Requirement already satisfied: pyasn1<0.5.0,>=0.4.6 in /usr/local/lib/python3.7/dist-packages (from pyasn1-modules>=0.2.1->google-auth>=1.0.1->kubernetes==12.0.1->noronha-dataops) (0.4.8)\n",
            "Requirement already satisfied: chardet<4,>=3.0.2 in /usr/local/lib/python3.7/dist-packages (from requests->noronha-dataops) (3.0.4)\n",
            "Requirement already satisfied: idna<3,>=2.5 in /usr/local/lib/python3.7/dist-packages (from requests->noronha-dataops) (2.10)\n",
            "Collecting cryptography>=1.3.4\n",
            "  Downloading cryptography-3.4.8-cp36-abi3-manylinux_2_24_x86_64.whl (3.0 MB)\n",
            "\u001b[K     |████████████████████████████████| 3.0 MB 43.2 MB/s \n",
            "\u001b[?25hRequirement already satisfied: cffi>=1.12 in /usr/local/lib/python3.7/dist-packages (from cryptography>=1.3.4->requests->noronha-dataops) (1.14.6)\n",
            "Requirement already satisfied: pycparser in /usr/local/lib/python3.7/dist-packages (from cffi>=1.12->cryptography>=1.3.4->requests->noronha-dataops) (2.20)\n",
            "Requirement already satisfied: pathlib in /usr/local/lib/python3.7/dist-packages (from artifactory->noronha-dataops) (1.0.1)\n",
            "Requirement already satisfied: packaging in /usr/local/lib/python3.7/dist-packages (from bleach->nbconvert==5.6.1->noronha-dataops) (21.0)\n",
            "Requirement already satisfied: webencodings in /usr/local/lib/python3.7/dist-packages (from bleach->nbconvert==5.6.1->noronha-dataops) (0.5.1)\n",
            "Collecting args\n",
            "  Downloading args-0.1.0.tar.gz (3.0 kB)\n",
            "Requirement already satisfied: pytest in /usr/local/lib/python3.7/dist-packages (from conu->noronha-dataops) (3.6.4)\n",
            "Collecting conu\n",
            "  Downloading conu-0.7.1-py3-none-any.whl (109 kB)\n",
            "\u001b[K     |████████████████████████████████| 109 kB 54.9 MB/s \n",
            "\u001b[?25hRequirement already satisfied: text-unidecode==1.3 in /usr/local/lib/python3.7/dist-packages (from faker->nexus3-cli==1.0.2->noronha-dataops) (1.3)\n",
            "Requirement already satisfied: typing-extensions>=3.7.4.3 in /usr/local/lib/python3.7/dist-packages (from gitpython->noronha-dataops) (3.7.4.3)\n",
            "Collecting gitdb<5,>=4.0.1\n",
            "  Downloading gitdb-4.0.7-py3-none-any.whl (63 kB)\n",
            "\u001b[K     |████████████████████████████████| 63 kB 2.0 MB/s \n",
            "\u001b[?25hCollecting smmap<5,>=3.0.1\n",
            "  Downloading smmap-4.0.0-py2.py3-none-any.whl (24 kB)\n",
            "Requirement already satisfied: importlib-metadata>=3.6 in /usr/local/lib/python3.7/dist-packages (from keyring->noronha-dataops) (4.8.1)\n",
            "Collecting jeepney>=0.4.2\n",
            "  Downloading jeepney-0.7.1-py3-none-any.whl (54 kB)\n",
            "\u001b[K     |████████████████████████████████| 54 kB 3.1 MB/s \n",
            "\u001b[?25hCollecting SecretStorage>=3.2\n",
            "  Downloading SecretStorage-3.3.1-py3-none-any.whl (15 kB)\n",
            "Requirement already satisfied: zipp>=0.5 in /usr/local/lib/python3.7/dist-packages (from importlib-metadata>=3.6->keyring->noronha-dataops) (3.5.0)\n",
            "Requirement already satisfied: pymongo<4.0,>=3.4 in /usr/local/lib/python3.7/dist-packages (from mongoengine->noronha-dataops) (3.12.0)\n",
            "Requirement already satisfied: pyparsing>=2.0.2 in /usr/local/lib/python3.7/dist-packages (from packaging->bleach->nbconvert==5.6.1->noronha-dataops) (2.4.7)\n",
            "Requirement already satisfied: pluggy<0.8,>=0.5 in /usr/local/lib/python3.7/dist-packages (from pytest->conu->noronha-dataops) (0.7.1)\n",
            "Requirement already satisfied: more-itertools>=4.0.0 in /usr/local/lib/python3.7/dist-packages (from pytest->conu->noronha-dataops) (8.9.0)\n",
            "Requirement already satisfied: atomicwrites>=1.0 in /usr/local/lib/python3.7/dist-packages (from pytest->conu->noronha-dataops) (1.4.0)\n",
            "Requirement already satisfied: attrs>=17.4.0 in /usr/local/lib/python3.7/dist-packages (from pytest->conu->noronha-dataops) (21.2.0)\n",
            "Requirement already satisfied: oauthlib>=3.0.0 in /usr/local/lib/python3.7/dist-packages (from requests-oauthlib->kubernetes==12.0.1->noronha-dataops) (3.1.1)\n",
            "Building wheels for collected packages: geomet, artifactory, blinker, clint, args, kaptan, random-name\n",
            "  Building wheel for geomet (setup.py) ... \u001b[?25l\u001b[?25hdone\n",
            "  Created wheel for geomet: filename=geomet-0.1.2-py3-none-any.whl size=14895 sha256=43ccdb27bf231ef81744d1d7b94ddde7f9c20b765337b10039bed28c52471436\n",
            "  Stored in directory: /root/.cache/pip/wheels/e9/eb/92/8464b4ce12209717c1728cbdc7bf3862f4a080e484701406c6\n",
            "  Building wheel for artifactory (setup.py) ... \u001b[?25l\u001b[?25hdone\n",
            "  Created wheel for artifactory: filename=artifactory-0.1.17-py3-none-any.whl size=12303 sha256=fbffd189f2028dc1be034b04c1aea325d25bcc0975861a7c7bc7afc245f686f8\n",
            "  Stored in directory: /root/.cache/pip/wheels/ae/c0/a8/dcd68abb0137a720b400a15b591ececc93d440c185a383a4ad\n",
            "  Building wheel for blinker (setup.py) ... \u001b[?25l\u001b[?25hdone\n",
            "  Created wheel for blinker: filename=blinker-1.4-py3-none-any.whl size=13478 sha256=282033d5fa24edab2ae1da24d2396162ad7539d2f354acc1e71d878152fbdc54\n",
            "  Stored in directory: /root/.cache/pip/wheels/22/f5/18/df711b66eb25b21325c132757d4314db9ac5e8dabeaf196eab\n",
            "  Building wheel for clint (setup.py) ... \u001b[?25l\u001b[?25hdone\n",
            "  Created wheel for clint: filename=clint-0.5.1-py3-none-any.whl size=34474 sha256=ed85fb216b96b1ebad8e35e92d1e3d025a0d590d3cf844e65230f3757b276d21\n",
            "  Stored in directory: /root/.cache/pip/wheels/29/97/84/72d17bd67a52abe83c647807c3d77dc4d7c1d7709d7077a5f3\n",
            "  Building wheel for args (setup.py) ... \u001b[?25l\u001b[?25hdone\n",
            "  Created wheel for args: filename=args-0.1.0-py3-none-any.whl size=3317 sha256=7b94323bb0b35f91419dc44b4bbc960e48330bcc531b2ade3db4d0228ae52de8\n",
            "  Stored in directory: /root/.cache/pip/wheels/6c/9c/cb/445bf22cb64c8cf6a84de63d48ba885470cdf08e77416b6e7a\n",
            "  Building wheel for kaptan (setup.py) ... \u001b[?25l\u001b[?25hdone\n",
            "  Created wheel for kaptan: filename=kaptan-0.5.12-py3-none-any.whl size=11000 sha256=e2ba2a7a7d8c9d6fd2620f4692fbfb44bf358d71d871cfe95102b5f7d4a2d38f\n",
            "  Stored in directory: /root/.cache/pip/wheels/e8/d7/b8/6eb21dce2377fe4497d597910f42e42e641640ba0ceffee623\n",
            "  Building wheel for random-name (setup.py) ... \u001b[?25l\u001b[?25hdone\n",
            "  Created wheel for random-name: filename=random_name-0.1.1-py3-none-any.whl size=5472 sha256=2c38426f9c4e8db09a0065aa27c6b8d85a2ac1d49a88c756991e3ad3d55bdda1\n",
            "  Stored in directory: /root/.cache/pip/wheels/58/e3/16/d5543fd9ca2ba5dcb476a9afb45c132052560b0e64d812aeff\n",
            "Successfully built geomet artifactory blinker clint args kaptan random-name\n",
            "Installing collected packages: six, jeepney, cryptography, websocket-client, smmap, SecretStorage, pyOpenSSL, args, kubernetes, keyring, gitdb, geomet, faker, docker, clint, random-name, pyvalid, nexus3-cli, mongoengine, keyring-jeepney, kaptan, gitpython, conu, cassandra-driver, blinker, artifactory, noronha-dataops\n",
            "  Attempting uninstall: six\n",
            "    Found existing installation: six 1.15.0\n",
            "    Uninstalling six-1.15.0:\n",
            "      Successfully uninstalled six-1.15.0\n",
            "\u001b[31mERROR: pip's dependency resolver does not currently take into account all the packages that are installed. This behaviour is the source of the following dependency conflicts.\n",
            "tensorflow 2.6.0 requires six~=1.15.0, but you have six 1.10.0 which is incompatible.\n",
            "google-colab 1.0.0 requires six~=1.15.0, but you have six 1.10.0 which is incompatible.\n",
            "google-api-python-client 1.12.8 requires six<2dev,>=1.13.0, but you have six 1.10.0 which is incompatible.\n",
            "google-api-core 1.26.3 requires six>=1.13.0, but you have six 1.10.0 which is incompatible.\n",
            "dm-tree 0.1.6 requires six>=1.12.0, but you have six 1.10.0 which is incompatible.\n",
            "datascience 0.10.6 requires folium==0.2.1, but you have folium 0.8.3 which is incompatible.\n",
            "albumentations 0.1.12 requires imgaug<0.2.7,>=0.2.5, but you have imgaug 0.2.9 which is incompatible.\u001b[0m\n",
            "Successfully installed SecretStorage-3.3.1 args-0.1.0 artifactory-0.1.17 blinker-1.4 cassandra-driver-3.21.0 clint-0.5.1 conu-0.7.1 cryptography-3.4.8 docker-5.0.2 faker-8.13.2 geomet-0.1.2 gitdb-4.0.7 gitpython-3.1.24 jeepney-0.7.1 kaptan-0.5.12 keyring-23.2.1 keyring-jeepney-0.2 kubernetes-12.0.1 mongoengine-0.23.1 nexus3-cli-1.0.2 noronha-dataops-1.6.3 pyOpenSSL-20.0.1 pyvalid-0.9.2 random-name-0.1.1 six-1.10.0 smmap-4.0.0 websocket-client-1.2.1\n"
          ]
        },
        {
          "output_type": "display_data",
          "data": {
            "application/vnd.colab-display-data+json": {
              "pip_warning": {
                "packages": [
                  "six"
                ]
              }
            }
          },
          "metadata": {}
        }
      ]
    },
    {
      "cell_type": "code",
      "metadata": {
        "id": "HCAYc-siardX"
      },
      "source": [
        "from noronha.tools.publish import Publisher\n",
        "from noronha.tools.shortcuts import data_path, tmp_path"
      ],
      "execution_count": 2,
      "outputs": []
    },
    {
      "cell_type": "code",
      "metadata": {
        "id": "6wUOvnKqa1Ax"
      },
      "source": [
        "import numpy as np\n",
        "from sklearn import svm\n",
        "import joblib\n",
        "from sklearn.model_selection import StratifiedKFold, cross_val_score"
      ],
      "execution_count": 3,
      "outputs": []
    },
    {
      "cell_type": "code",
      "metadata": {
        "id": "FhPPC6paa7qF"
      },
      "source": [
        "gamma = 0.1\n",
        "kernel = 'linear'\n",
        "n_folds = 3"
      ],
      "execution_count": 4,
      "outputs": []
    },
    {
      "cell_type": "code",
      "metadata": {
        "id": "wPy82aj-bAyn"
      },
      "source": [
        "\n",
        "params = {\"gamma\": gamma, \"kernel\": kernel, \"n_folds\": n_folds}"
      ],
      "execution_count": 5,
      "outputs": []
    },
    {
      "cell_type": "code",
      "metadata": {
        "id": "gNMEth0ebFfV"
      },
      "source": [
        "\n",
        "entries = np.genfromtxt(('https://raw.githubusercontent.com/cristoyerenahs/CDMX_COVID19/master/measures.csv'), delimiter=',')\n",
        "classes = np.genfromtxt(('https://raw.githubusercontent.com/cristoyerenahs/CDMX_COVID19/master/species.csv'), dtype=str)"
      ],
      "execution_count": 14,
      "outputs": []
    },
    {
      "cell_type": "code",
      "metadata": {
        "colab": {
          "base_uri": "https://localhost:8080/"
        },
        "id": "qYF-g0Uwb8n9",
        "outputId": "5af463e7-5a4a-46ac-c8d4-a5f85f1058d6"
      },
      "source": [
        "from google.colab import drive\n",
        "drive.mount('/content/drive')"
      ],
      "execution_count": 15,
      "outputs": [
        {
          "output_type": "stream",
          "name": "stdout",
          "text": [
            "Mounted at /content/drive\n"
          ]
        }
      ]
    },
    {
      "cell_type": "code",
      "metadata": {
        "id": "UOBpWaRpbJpV"
      },
      "source": [
        "classes"
      ],
      "execution_count": null,
      "outputs": []
    },
    {
      "cell_type": "code",
      "metadata": {
        "id": "zCoJOAAkfxcc"
      },
      "source": [
        "clf = svm.SVC(kernel=kernel, gamma=gamma)\n",
        "fold = StratifiedKFold(n_splits=n_folds, shuffle=True, random_state=np.random.RandomState(19))"
      ],
      "execution_count": 18,
      "outputs": []
    },
    {
      "cell_type": "code",
      "metadata": {
        "colab": {
          "base_uri": "https://localhost:8080/"
        },
        "id": "kCK8rk4Kfzwt",
        "outputId": "56944fc5-e8f1-4d6c-e5c0-5f9d1fa9e861"
      },
      "source": [
        "score = cross_val_score(estimator=clf, X=entries, y=classes, cv=fold, n_jobs=-1)  # calculating metrics\n",
        "\n",
        "metrics = dict(\n",
        "    score_avg=score.mean(),\n",
        "    score_var=np.sqrt(score.var())\n",
        ")\n",
        "\n",
        "clf.fit(entries, classes)  # definitive training"
      ],
      "execution_count": 19,
      "outputs": [
        {
          "output_type": "execute_result",
          "data": {
            "text/plain": [
              "SVC(C=1.0, break_ties=False, cache_size=200, class_weight=None, coef0=0.0,\n",
              "    decision_function_shape='ovr', degree=3, gamma=0.1, kernel='linear',\n",
              "    max_iter=-1, probability=False, random_state=None, shrinking=True,\n",
              "    tol=0.001, verbose=False)"
            ]
          },
          "metadata": {},
          "execution_count": 19
        }
      ]
    },
    {
      "cell_type": "code",
      "metadata": {
        "colab": {
          "base_uri": "https://localhost:8080/",
          "height": 374
        },
        "id": "1yQsPOoMf5BK",
        "outputId": "4d94fe20-9baf-4dd9-dbd3-238e2d76b0c6"
      },
      "source": [
        "joblib.dump(clf, tmp_path('clf.pkl'))\n",
        "\n",
        "Publisher()(\n",
        "    details=dict(\n",
        "        params=params,\n",
        "        metrics=metrics\n",
        "    )\n",
        ")"
      ],
      "execution_count": 22,
      "outputs": [
        {
          "output_type": "error",
          "ename": "FileNotFoundError",
          "evalue": "ignored",
          "traceback": [
            "\u001b[0;31m---------------------------------------------------------------------------\u001b[0m",
            "\u001b[0;31mFileNotFoundError\u001b[0m                         Traceback (most recent call last)",
            "\u001b[0;32m<ipython-input-22-b60b133b5f29>\u001b[0m in \u001b[0;36m<module>\u001b[0;34m()\u001b[0m\n\u001b[1;32m      1\u001b[0m \u001b[0mjoblib\u001b[0m\u001b[0;34m.\u001b[0m\u001b[0mdump\u001b[0m\u001b[0;34m(\u001b[0m\u001b[0mclf\u001b[0m\u001b[0;34m,\u001b[0m \u001b[0mtmp_path\u001b[0m\u001b[0;34m(\u001b[0m\u001b[0;34m'clf.pkl'\u001b[0m\u001b[0;34m)\u001b[0m\u001b[0;34m)\u001b[0m\u001b[0;34m\u001b[0m\u001b[0;34m\u001b[0m\u001b[0m\n\u001b[1;32m      2\u001b[0m \u001b[0;34m\u001b[0m\u001b[0m\n\u001b[0;32m----> 3\u001b[0;31m Publisher()(\n\u001b[0m\u001b[1;32m      4\u001b[0m     details=dict(\n\u001b[1;32m      5\u001b[0m         \u001b[0mparams\u001b[0m\u001b[0;34m=\u001b[0m\u001b[0mparams\u001b[0m\u001b[0;34m,\u001b[0m\u001b[0;34m\u001b[0m\u001b[0;34m\u001b[0m\u001b[0m\n",
            "\u001b[0;32m/usr/local/lib/python3.7/dist-packages/noronha/tools/publish.py\u001b[0m in \u001b[0;36m__init__\u001b[0;34m(self)\u001b[0m\n\u001b[1;32m     79\u001b[0m     \u001b[0;32mdef\u001b[0m \u001b[0m__init__\u001b[0m\u001b[0;34m(\u001b[0m\u001b[0mself\u001b[0m\u001b[0;34m)\u001b[0m\u001b[0;34m:\u001b[0m\u001b[0;34m\u001b[0m\u001b[0;34m\u001b[0m\u001b[0m\n\u001b[1;32m     80\u001b[0m \u001b[0;34m\u001b[0m\u001b[0m\n\u001b[0;32m---> 81\u001b[0;31m         \u001b[0mself\u001b[0m\u001b[0;34m.\u001b[0m\u001b[0mproj\u001b[0m \u001b[0;34m=\u001b[0m \u001b[0mProject\u001b[0m\u001b[0;34m.\u001b[0m\u001b[0mload\u001b[0m\u001b[0;34m(\u001b[0m\u001b[0;34m)\u001b[0m\u001b[0;34m\u001b[0m\u001b[0;34m\u001b[0m\u001b[0m\n\u001b[0m\u001b[1;32m     82\u001b[0m         \u001b[0mself\u001b[0m\u001b[0;34m.\u001b[0m\u001b[0mtrain\u001b[0m \u001b[0;34m=\u001b[0m \u001b[0mTraining\u001b[0m\u001b[0;34m.\u001b[0m\u001b[0mload\u001b[0m\u001b[0;34m(\u001b[0m\u001b[0mignore\u001b[0m\u001b[0;34m=\u001b[0m\u001b[0;32mTrue\u001b[0m\u001b[0;34m)\u001b[0m\u001b[0;34m\u001b[0m\u001b[0;34m\u001b[0m\u001b[0m\n\u001b[1;32m     83\u001b[0m         \u001b[0mself\u001b[0m\u001b[0;34m.\u001b[0m\u001b[0mmv_api\u001b[0m \u001b[0;34m=\u001b[0m \u001b[0mModelVersionAPI\u001b[0m\u001b[0;34m(\u001b[0m\u001b[0mself\u001b[0m\u001b[0;34m.\u001b[0m\u001b[0mproj\u001b[0m\u001b[0;34m)\u001b[0m\u001b[0;34m\u001b[0m\u001b[0;34m\u001b[0m\u001b[0m\n",
            "\u001b[0;32m/usr/local/lib/python3.7/dist-packages/noronha/db/main.py\u001b[0m in \u001b[0;36mload\u001b[0;34m(cls, src_path, ignore)\u001b[0m\n\u001b[1;32m    237\u001b[0m                 \u001b[0;32mreturn\u001b[0m \u001b[0mcls\u001b[0m\u001b[0;34m(\u001b[0m\u001b[0;34m)\u001b[0m\u001b[0;34m\u001b[0m\u001b[0;34m\u001b[0m\u001b[0m\n\u001b[1;32m    238\u001b[0m             \u001b[0;32melse\u001b[0m\u001b[0;34m:\u001b[0m\u001b[0;34m\u001b[0m\u001b[0;34m\u001b[0m\u001b[0m\n\u001b[0;32m--> 239\u001b[0;31m                 \u001b[0;32mraise\u001b[0m \u001b[0mFileNotFoundError\u001b[0m\u001b[0;34m(\u001b[0m\u001b[0msrc_file\u001b[0m\u001b[0;34m)\u001b[0m\u001b[0;34m\u001b[0m\u001b[0;34m\u001b[0m\u001b[0m\n\u001b[0m\u001b[1;32m    240\u001b[0m \u001b[0;34m\u001b[0m\u001b[0m\n\u001b[1;32m    241\u001b[0m     \u001b[0;32mdef\u001b[0m \u001b[0mclean\u001b[0m\u001b[0;34m(\u001b[0m\u001b[0mself\u001b[0m\u001b[0;34m)\u001b[0m\u001b[0;34m:\u001b[0m\u001b[0;34m\u001b[0m\u001b[0;34m\u001b[0m\u001b[0m\n",
            "\u001b[0;31mFileNotFoundError\u001b[0m: /nha/meta/proj.json"
          ]
        }
      ]
    },
    {
      "cell_type": "code",
      "metadata": {
        "id": "LewkUWQVgSRN"
      },
      "source": [
        "import json\n",
        "import numpy as np\n",
        "import joblib"
      ],
      "execution_count": 23,
      "outputs": []
    },
    {
      "cell_type": "code",
      "metadata": {
        "colab": {
          "base_uri": "https://localhost:8080/",
          "height": 459
        },
        "id": "klkYngyDgTsH",
        "outputId": "d11c0f25-a043-498b-fdfa-2ca01d445cd4"
      },
      "source": [
        "from noronha.tools.serving import OnlinePredict\n",
        "from noronha.tools.shortcuts import model_path"
      ],
      "execution_count": 24,
      "outputs": [
        {
          "output_type": "error",
          "ename": "ModuleNotFoundError",
          "evalue": "ignored",
          "traceback": [
            "\u001b[0;31m---------------------------------------------------------------------------\u001b[0m",
            "\u001b[0;31mModuleNotFoundError\u001b[0m                       Traceback (most recent call last)",
            "\u001b[0;32m<ipython-input-24-8dcbb1916eea>\u001b[0m in \u001b[0;36m<module>\u001b[0;34m()\u001b[0m\n\u001b[0;32m----> 1\u001b[0;31m \u001b[0;32mfrom\u001b[0m \u001b[0mnoronha\u001b[0m\u001b[0;34m.\u001b[0m\u001b[0mtools\u001b[0m\u001b[0;34m.\u001b[0m\u001b[0mserving\u001b[0m \u001b[0;32mimport\u001b[0m \u001b[0mOnlinePredict\u001b[0m\u001b[0;34m\u001b[0m\u001b[0;34m\u001b[0m\u001b[0m\n\u001b[0m\u001b[1;32m      2\u001b[0m \u001b[0;32mfrom\u001b[0m \u001b[0mnoronha\u001b[0m\u001b[0;34m.\u001b[0m\u001b[0mtools\u001b[0m\u001b[0;34m.\u001b[0m\u001b[0mshortcuts\u001b[0m \u001b[0;32mimport\u001b[0m \u001b[0mmodel_path\u001b[0m\u001b[0;34m\u001b[0m\u001b[0;34m\u001b[0m\u001b[0m\n",
            "\u001b[0;32m/usr/local/lib/python3.7/dist-packages/noronha/tools/serving.py\u001b[0m in \u001b[0;36m<module>\u001b[0;34m()\u001b[0m\n\u001b[1;32m     20\u001b[0m \u001b[0;34m\u001b[0m\u001b[0m\n\u001b[1;32m     21\u001b[0m \u001b[0;32mfrom\u001b[0m \u001b[0mnoronha\u001b[0m\u001b[0;34m.\u001b[0m\u001b[0mbay\u001b[0m\u001b[0;34m.\u001b[0m\u001b[0mgoods\u001b[0m \u001b[0;32mimport\u001b[0m \u001b[0mbuild_app\u001b[0m\u001b[0;34m\u001b[0m\u001b[0;34m\u001b[0m\u001b[0m\n\u001b[0;32m---> 22\u001b[0;31m \u001b[0;32mfrom\u001b[0m \u001b[0mnoronha\u001b[0m\u001b[0;34m.\u001b[0m\u001b[0mbay\u001b[0m\u001b[0;34m.\u001b[0m\u001b[0mtrader\u001b[0m \u001b[0;32mimport\u001b[0m \u001b[0mbuild_server\u001b[0m\u001b[0;34m\u001b[0m\u001b[0;34m\u001b[0m\u001b[0m\n\u001b[0m\u001b[1;32m     23\u001b[0m \u001b[0;32mfrom\u001b[0m \u001b[0mnoronha\u001b[0m\u001b[0;34m.\u001b[0m\u001b[0mcommon\u001b[0m\u001b[0;34m.\u001b[0m\u001b[0mconstants\u001b[0m \u001b[0;32mimport\u001b[0m \u001b[0mDateFmt\u001b[0m\u001b[0;34m,\u001b[0m \u001b[0mOnlineConst\u001b[0m\u001b[0;34m\u001b[0m\u001b[0;34m\u001b[0m\u001b[0m\n\u001b[1;32m     24\u001b[0m \u001b[0;32mfrom\u001b[0m \u001b[0mnoronha\u001b[0m\u001b[0;34m.\u001b[0m\u001b[0mcommon\u001b[0m\u001b[0;34m.\u001b[0m\u001b[0merrors\u001b[0m \u001b[0;32mimport\u001b[0m \u001b[0mNhaDataError\u001b[0m\u001b[0;34m,\u001b[0m \u001b[0mPrettyError\u001b[0m\u001b[0;34m,\u001b[0m \u001b[0mMisusageError\u001b[0m\u001b[0;34m,\u001b[0m \u001b[0mResolutionError\u001b[0m\u001b[0;34m,\u001b[0m \u001b[0mServingError\u001b[0m\u001b[0;34m\u001b[0m\u001b[0;34m\u001b[0m\u001b[0m\n",
            "\u001b[0;32m/usr/local/lib/python3.7/dist-packages/noronha/bay/trader.py\u001b[0m in \u001b[0;36m<module>\u001b[0;34m()\u001b[0m\n\u001b[1;32m     17\u001b[0m \u001b[0;32mimport\u001b[0m \u001b[0mwarnings\u001b[0m\u001b[0;34m\u001b[0m\u001b[0;34m\u001b[0m\u001b[0m\n\u001b[1;32m     18\u001b[0m \u001b[0;32mfrom\u001b[0m \u001b[0mabc\u001b[0m \u001b[0;32mimport\u001b[0m \u001b[0mABC\u001b[0m\u001b[0;34m,\u001b[0m \u001b[0mabstractmethod\u001b[0m\u001b[0;34m\u001b[0m\u001b[0;34m\u001b[0m\u001b[0m\n\u001b[0;32m---> 19\u001b[0;31m \u001b[0;32mfrom\u001b[0m \u001b[0mgunicorn\u001b[0m\u001b[0;34m.\u001b[0m\u001b[0mapp\u001b[0m\u001b[0;34m.\u001b[0m\u001b[0mbase\u001b[0m \u001b[0;32mimport\u001b[0m \u001b[0mBaseApplication\u001b[0m\u001b[0;34m\u001b[0m\u001b[0;34m\u001b[0m\u001b[0m\n\u001b[0m\u001b[1;32m     20\u001b[0m \u001b[0;32mfrom\u001b[0m \u001b[0mwerkzeug\u001b[0m\u001b[0;34m.\u001b[0m\u001b[0mserving\u001b[0m \u001b[0;32mimport\u001b[0m \u001b[0mrun_simple\u001b[0m\u001b[0;34m\u001b[0m\u001b[0;34m\u001b[0m\u001b[0m\n\u001b[1;32m     21\u001b[0m \u001b[0;34m\u001b[0m\u001b[0m\n",
            "\u001b[0;31mModuleNotFoundError\u001b[0m: No module named 'gunicorn'",
            "",
            "\u001b[0;31m---------------------------------------------------------------------------\u001b[0;32m\nNOTE: If your import is failing due to a missing package, you can\nmanually install dependencies using either !pip or !apt.\n\nTo view examples of installing some common dependencies, click the\n\"Open Examples\" button below.\n\u001b[0;31m---------------------------------------------------------------------------\u001b[0m\n"
          ],
          "errorDetails": {
            "actions": [
              {
                "action": "open_url",
                "actionText": "Open Examples",
                "url": "/notebooks/snippets/importing_libraries.ipynb"
              }
            ]
          }
        }
      ]
    },
    {
      "cell_type": "code",
      "metadata": {
        "colab": {
          "base_uri": "https://localhost:8080/",
          "height": 180
        },
        "id": "lMdZEYvogjxG",
        "outputId": "56e6f176-16a5-4793-f40c-6c3aa332ec31"
      },
      "source": [
        "clf_path = model_path('clf.pkl')\n",
        "clf = joblib.load(clf_path)"
      ],
      "execution_count": 25,
      "outputs": [
        {
          "output_type": "error",
          "ename": "NameError",
          "evalue": "ignored",
          "traceback": [
            "\u001b[0;31m---------------------------------------------------------------------------\u001b[0m",
            "\u001b[0;31mNameError\u001b[0m                                 Traceback (most recent call last)",
            "\u001b[0;32m<ipython-input-25-aa37963e9938>\u001b[0m in \u001b[0;36m<module>\u001b[0;34m()\u001b[0m\n\u001b[0;32m----> 1\u001b[0;31m \u001b[0mclf_path\u001b[0m \u001b[0;34m=\u001b[0m \u001b[0mmodel_path\u001b[0m\u001b[0;34m(\u001b[0m\u001b[0;34m'clf.pkl'\u001b[0m\u001b[0;34m)\u001b[0m\u001b[0;34m\u001b[0m\u001b[0;34m\u001b[0m\u001b[0m\n\u001b[0m\u001b[1;32m      2\u001b[0m \u001b[0mclf\u001b[0m \u001b[0;34m=\u001b[0m \u001b[0mjoblib\u001b[0m\u001b[0;34m.\u001b[0m\u001b[0mload\u001b[0m\u001b[0;34m(\u001b[0m\u001b[0mclf_path\u001b[0m\u001b[0;34m)\u001b[0m\u001b[0;34m\u001b[0m\u001b[0;34m\u001b[0m\u001b[0m\n",
            "\u001b[0;31mNameError\u001b[0m: name 'model_path' is not defined"
          ]
        }
      ]
    },
    {
      "cell_type": "code",
      "metadata": {
        "id": "ClUYLjVNgrpK"
      },
      "source": [
        "def predict(x):\n",
        "    features = json.loads(x)\n",
        "    features = np.array(features).reshape(1, -1)\n",
        "    return clf.predict(features)[0]"
      ],
      "execution_count": 26,
      "outputs": []
    },
    {
      "cell_type": "code",
      "metadata": {
        "colab": {
          "base_uri": "https://localhost:8080/",
          "height": 163
        },
        "id": "0_HCJNX6gx4S",
        "outputId": "4933a787-de0a-4bf3-9b6d-b65577e209a6"
      },
      "source": [
        "OnlinePredict(predict_func=predict)()"
      ],
      "execution_count": 27,
      "outputs": [
        {
          "output_type": "error",
          "ename": "NameError",
          "evalue": "ignored",
          "traceback": [
            "\u001b[0;31m---------------------------------------------------------------------------\u001b[0m",
            "\u001b[0;31mNameError\u001b[0m                                 Traceback (most recent call last)",
            "\u001b[0;32m<ipython-input-27-a480ad1e29bc>\u001b[0m in \u001b[0;36m<module>\u001b[0;34m()\u001b[0m\n\u001b[0;32m----> 1\u001b[0;31m \u001b[0mOnlinePredict\u001b[0m\u001b[0;34m(\u001b[0m\u001b[0mpredict_func\u001b[0m\u001b[0;34m=\u001b[0m\u001b[0mpredict\u001b[0m\u001b[0;34m)\u001b[0m\u001b[0;34m(\u001b[0m\u001b[0;34m)\u001b[0m\u001b[0;34m\u001b[0m\u001b[0;34m\u001b[0m\u001b[0m\n\u001b[0m",
            "\u001b[0;31mNameError\u001b[0m: name 'OnlinePredict' is not defined"
          ]
        }
      ]
    }
  ]
}